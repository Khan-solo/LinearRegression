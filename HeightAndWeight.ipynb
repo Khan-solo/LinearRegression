{
  "nbformat": 4,
  "nbformat_minor": 0,
  "metadata": {
    "colab": {
      "name": "HeightAndWeight",
      "provenance": [],
      "mount_file_id": "1F-jrgJ7HmPuFWkImzxnN1apxcPR5WfQe",
      "authorship_tag": "ABX9TyNrjbXeJpK5MtKkpRm9CTGR",
      "include_colab_link": true
    },
    "kernelspec": {
      "name": "python3",
      "display_name": "Python 3"
    },
    "language_info": {
      "name": "python"
    }
  },
  "cells": [
    {
      "cell_type": "markdown",
      "metadata": {
        "id": "view-in-github",
        "colab_type": "text"
      },
      "source": [
        "<a href=\"https://colab.research.google.com/github/Khan-solo/LinearRegression/blob/main/HeightAndWeight.ipynb\" target=\"_parent\"><img src=\"https://colab.research.google.com/assets/colab-badge.svg\" alt=\"Open In Colab\"/></a>"
      ]
    },
    {
      "cell_type": "code",
      "metadata": {
        "id": "Mk1gTh18gueV"
      },
      "source": [
        "import numpy as np\n",
        "import pandas as pd\n",
        "import matplotlib.pyplot as plt"
      ],
      "execution_count": 12,
      "outputs": []
    },
    {
      "cell_type": "code",
      "metadata": {
        "id": "fPAsy5V0hYOV"
      },
      "source": [
        "dataset = pd.read_csv('/content/heightwt.csv')"
      ],
      "execution_count": 13,
      "outputs": []
    },
    {
      "cell_type": "code",
      "metadata": {
        "id": "E5mHBZtAhz8V"
      },
      "source": [
        "X= dataset.iloc[:,:-1]\n",
        "y = dataset.iloc[:,-1]"
      ],
      "execution_count": 14,
      "outputs": []
    },
    {
      "cell_type": "code",
      "metadata": {
        "colab": {
          "base_uri": "https://localhost:8080/"
        },
        "id": "DDvPPckaij8E",
        "outputId": "f1e3458b-62ce-4e75-af83-74423f8b66cf"
      },
      "source": [
        "print(X)"
      ],
      "execution_count": 15,
      "outputs": [
        {
          "output_type": "stream",
          "text": [
            "    Height\n",
            "0     1.47\n",
            "1     1.50\n",
            "2     1.52\n",
            "3     1.55\n",
            "4     1.57\n",
            "5     1.60\n",
            "6     1.63\n",
            "7     1.65\n",
            "8     1.68\n",
            "9     1.70\n",
            "10    1.73\n",
            "11    1.75\n",
            "12    1.78\n",
            "13    1.80\n",
            "14    1.83\n"
          ],
          "name": "stdout"
        }
      ]
    },
    {
      "cell_type": "code",
      "metadata": {
        "colab": {
          "base_uri": "https://localhost:8080/"
        },
        "id": "c86gPexHiN6M",
        "outputId": "cf5139cb-793f-4621-8898-f050b18e2523"
      },
      "source": [
        "print(y)"
      ],
      "execution_count": 16,
      "outputs": [
        {
          "output_type": "stream",
          "text": [
            "0     52.21\n",
            "1     53.12\n",
            "2     54.48\n",
            "3     55.84\n",
            "4     57.20\n",
            "5     58.57\n",
            "6     59.93\n",
            "7     61.29\n",
            "8     63.11\n",
            "9     64.47\n",
            "10    66.28\n",
            "11    68.10\n",
            "12    69.92\n",
            "13    72.19\n",
            "14    74.46\n",
            "Name: Weight, dtype: float64\n"
          ],
          "name": "stdout"
        }
      ]
    },
    {
      "cell_type": "code",
      "metadata": {
        "id": "2vCtHlxnlz8-"
      },
      "source": [
        "from sklearn.model_selection import train_test_split\n",
        "X_train, X_test, y_train, y_test = train_test_split(X, y, test_size = 0.25, random_state=1)"
      ],
      "execution_count": 17,
      "outputs": []
    },
    {
      "cell_type": "code",
      "metadata": {
        "colab": {
          "base_uri": "https://localhost:8080/"
        },
        "id": "BYlOJ4JjmPYu",
        "outputId": "0465968c-90a0-441e-cde1-6525889c61ab"
      },
      "source": [
        "print(X_train)\n",
        "print(y_train)"
      ],
      "execution_count": 18,
      "outputs": [
        {
          "output_type": "stream",
          "text": [
            "    Height\n",
            "10    1.73\n",
            "4     1.57\n",
            "1     1.50\n",
            "13    1.80\n",
            "0     1.47\n",
            "14    1.83\n",
            "9     1.70\n",
            "8     1.68\n",
            "12    1.78\n",
            "11    1.75\n",
            "5     1.60\n",
            "10    66.28\n",
            "4     57.20\n",
            "1     53.12\n",
            "13    72.19\n",
            "0     52.21\n",
            "14    74.46\n",
            "9     64.47\n",
            "8     63.11\n",
            "12    69.92\n",
            "11    68.10\n",
            "5     58.57\n",
            "Name: Weight, dtype: float64\n"
          ],
          "name": "stdout"
        }
      ]
    },
    {
      "cell_type": "code",
      "metadata": {
        "colab": {
          "base_uri": "https://localhost:8080/"
        },
        "id": "2EsJA8lYL9yS",
        "outputId": "2b40d3f1-cbe7-4d79-a2cc-c25c68cc88e2"
      },
      "source": [
        "from sklearn.linear_model import LinearRegression\n",
        "regressor = LinearRegression()\n",
        "regressor.fit(X_train, y_train)"
      ],
      "execution_count": 20,
      "outputs": [
        {
          "output_type": "execute_result",
          "data": {
            "text/plain": [
              "LinearRegression(copy_X=True, fit_intercept=True, n_jobs=None, normalize=False)"
            ]
          },
          "metadata": {
            "tags": []
          },
          "execution_count": 20
        }
      ]
    },
    {
      "cell_type": "code",
      "metadata": {
        "id": "nETIGYlxMdiw"
      },
      "source": [
        "y_pred = regressor.predict(X_test)"
      ],
      "execution_count": null,
      "outputs": []
    },
    {
      "cell_type": "code",
      "metadata": {
        "colab": {
          "base_uri": "https://localhost:8080/",
          "height": 295
        },
        "id": "PGhNUQckMjff",
        "outputId": "6a64bd91-e912-46b6-e452-1905fd44ec06"
      },
      "source": [
        "plt.scatter(X_train, y_train, color='red')\n",
        "plt.plot(X_train, regressor.predict(X_train), color='blue')\n",
        "plt.xlabel(\"Height\")\n",
        "plt.ylabel('Weight (kg)')\n",
        "plt.title('Height vs Weight')\n",
        "\n",
        "plt.show()"
      ],
      "execution_count": 25,
      "outputs": [
        {
          "output_type": "display_data",
          "data": {
            "image/png": "[encoded data removed]",
            "text/plain": [
              "<Figure size 432x288 with 1 Axes>"
            ]
          },
          "metadata": {
            "tags": [],
            "needs_background": "light"
          }
        }
      ]
    },
    {
      "cell_type": "code",
      "metadata": {
        "colab": {
          "base_uri": "https://localhost:8080/",
          "height": 265
        },
        "id": "dTgaY89DNLud",
        "outputId": "83de8731-5089-489f-fcb0-1db3e6f96f72"
      },
      "source": [
        "plt.scatter(X_test, y_test, color='red')\n",
        "plt.plot(X_train, regressor.predict(X_train), color='blue')\n",
        "plt.show()"
      ],
      "execution_count": 24,
      "outputs": [
        {
          "output_type": "display_data",
          "data": {
            "image/png": "[encoded data removed]",
            "text/plain": [
              "<Figure size 432x288 with 1 Axes>"
            ]
          },
          "metadata": {
            "tags": [],
            "needs_background": "light"
          }
        }
      ]
    }
  ]
}